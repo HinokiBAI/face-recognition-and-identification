{
 "cells": [
  {
   "cell_type": "markdown",
   "source": [
    "级联分类器：Haar"
   ],
   "metadata": {
    "collapsed": false
   },
   "id": "5af2636e4903da52"
  },
  {
   "cell_type": "code",
   "execution_count": null,
   "outputs": [],
   "source": [
    "import cv2\n",
    "import numpy as np\n",
    "\n",
    "face_detector = cv2.CascadeClassifier('haar.xml')\n"
   ],
   "metadata": {
    "collapsed": false
   },
   "id": "da89781e1161fd65"
  },
  {
   "cell_type": "markdown",
   "source": [
    "计算单通道直方图相似度"
   ],
   "metadata": {
    "collapsed": false
   },
   "id": "649b02c2a612362b"
  },
  {
   "cell_type": "code",
   "execution_count": 32,
   "outputs": [
    {
     "ename": "SyntaxError",
     "evalue": "unexpected character after line continuation character (4062882633.py, line 7)",
     "output_type": "error",
     "traceback": [
      "\u001B[1;36m  Cell \u001B[1;32mIn [32], line 7\u001B[1;36m\u001B[0m\n\u001B[1;33m    degree = degree + \\\u001B[0m\n\u001B[1;37m                       ^\u001B[0m\n\u001B[1;31mSyntaxError\u001B[0m\u001B[1;31m:\u001B[0m unexpected character after line continuation character\n"
     ]
    }
   ],
   "source": [
    "def hist_similar(im1, im2):\n",
    "    hist1 = cv2.calcHist([im1], [0], None, [256], [0.0, 255.0])\n",
    "    hist2 = cv2.calcHist([im2], [0], None, [256], [0.0, 255.0])\n",
    "    degree = 0\n",
    "    for i in range(len(hist1)):\n",
    "        if hist1[i] != hist2[i]:\n",
    "            degree = degree + (1 - abs(hist1[i] - hist2[i]) / max(hist1[i], hist2[i]))\n",
    "        else:\n",
    "            degree = degree + 1\n",
    "    degree = degree / len(hist1)\n",
    "    return degree"
   ],
   "metadata": {
    "collapsed": false,
    "ExecuteTime": {
     "end_time": "2023-11-12T07:05:09.348756400Z",
     "start_time": "2023-11-12T07:05:09.308890100Z"
    }
   },
   "id": "100cce7a9c105536"
  },
  {
   "cell_type": "markdown",
   "source": [
    "计算三通道直方图相似度"
   ],
   "metadata": {
    "collapsed": false
   },
   "id": "d90076f4d927e67e"
  },
  {
   "cell_type": "code",
   "execution_count": null,
   "outputs": [],
   "source": [
    "def compare_hist(cap, face):\n",
    "    shape = face.shape\n",
    "    cap = cv2.resize(cap, shape)\n",
    "    sub_cap = cv2.split(cap)\n",
    "    sub_face = cv2.split(face)\n",
    "    sub_data = 0\n",
    "    for im1, im2 in zip(sub_cap, sub_face):\n",
    "        sub_data += hist_similar(im1, im2)\n",
    "    sub_data = sub_data / 3\n",
    "    return sub_data"
   ],
   "metadata": {
    "collapsed": false,
    "ExecuteTime": {
     "start_time": "2023-11-12T07:05:09.322843500Z"
    }
   },
   "id": "86b4c308e8a83e46"
  },
  {
   "cell_type": "markdown",
   "source": [
    "识别人脸，并裁剪图片\n",
    "1. 裁剪后图片为正方形，大小在190-260之间\n",
    "2. 如果未检测到人脸，输出是480*640的空数组"
   ],
   "metadata": {
    "collapsed": false
   },
   "id": "83bc55478052ee22"
  },
  {
   "cell_type": "code",
   "execution_count": null,
   "outputs": [],
   "source": [
    "def face_locate(img):\n",
    "    gray = cv2.cvtColor(img, cv2.COLOR_BGR2GRAY)\n",
    "    faces = face_detector.detectMultiScale(gray, 1.3, 5)\n",
    "    shape = img.shape # (480, 640, 3)\n",
    "    pad = 30\n",
    "    cut_img = np.zeros(shape)\n",
    "    w0 = 0\n",
    "    for (x, y, w, h) in faces:\n",
    "        if w >= w0:\n",
    "            cv2.rectangle(img, (x, y), (x+w, y+w), (0, 255, 0))\n",
    "            cut_img = img[(x-pad):(x+w+pad), (y-pad):(y+w+pad)]\n",
    "            w0 = w\n",
    "    return cut_img"
   ],
   "metadata": {
    "collapsed": false,
    "ExecuteTime": {
     "start_time": "2023-11-12T07:05:09.323840200Z"
    }
   },
   "id": "d5129837dd3f20c9"
  },
  {
   "cell_type": "markdown",
   "source": [
    "识别身份"
   ],
   "metadata": {
    "collapsed": false
   },
   "id": "67e9d6846ba19f15"
  },
  {
   "cell_type": "code",
   "execution_count": null,
   "outputs": [],
   "source": [
    "def face_reg(img):\n",
    "    names = ['Tianyou Bai', 'Zhiyi Wang', 'Qihang Yang', 'Aoqing Wang', 'Stranger']\n",
    "    face0 = cv2.imread('pics/bai.jpeg')\n",
    "    face1 = cv2.imread('pics/zhiyi.jpeg')\n",
    "    face2 = cv2.imread('pics/yang.jpeg')\n",
    "    face3 = cv2.imread('pics/aoqing.jpeg')\n",
    "    # shape = img.shape # 识别不到人脸为(480, 640, 3)\n",
    "    # print(shape)\n",
    "    sim0 = compare_hist(img, face0)\n",
    "    sim1 = compare_hist(img, face1)\n",
    "    sim2 = compare_hist(img, face2)\n",
    "    sim3 = compare_hist(img, face3)\n",
    "    if sim0 >= 0.48: idx = 0\n",
    "    elif sim1 >= 0.48: idx = 1\n",
    "    elif sim2 >= 0.48: idx = 2\n",
    "    elif sim3 >= 0.48: idx = 3\n",
    "    else:idx = 4\n",
    "    return names[idx]"
   ],
   "metadata": {
    "collapsed": false,
    "ExecuteTime": {
     "start_time": "2023-11-12T07:05:09.324836400Z"
    }
   },
   "id": "2e8db9aaf38b9a14"
  },
  {
   "cell_type": "markdown",
   "source": [
    "主程序"
   ],
   "metadata": {
    "collapsed": false
   },
   "id": "3702329318673a63"
  },
  {
   "cell_type": "code",
   "execution_count": null,
   "outputs": [],
   "source": [
    "def run():\n",
    "    vd = cv2.VideoCapture(0)\n",
    "    vd.set(6, cv2.VideoWriter.fourcc('M', 'J', 'P', 'G'))\n",
    "    \n",
    "    if vd.isOpened():\n",
    "        print('camera on')\n",
    "        while True:\n",
    "            ready, frame = vd.read()\n",
    "            if frame is None:\n",
    "                print('error')\n",
    "                break\n",
    "            if ready:\n",
    "                frame = cv2.flip(frame, 1)\n",
    "                obj = face_locate(frame)\n",
    "                name = face_reg(obj)\n",
    "                if name != 'Stranger':\n",
    "                    cv2.putText(frame, name, (220, 55), cv2.FONT_HERSHEY_TRIPLEX, 1.0, (255, 0, 0), 2)\n",
    "                else:\n",
    "                    cv2.putText(frame, name, (240, 55), cv2.FONT_HERSHEY_TRIPLEX, 1.0, (0, 0, 255), 2)\n",
    "                # print(name)\n",
    "                cv2.imshow('source', frame)\n",
    "                if cv2.waitKey(1) & 0xFF == ord('q'):\n",
    "                    vd.release()\n",
    "                    cv2.destroyAllWindows()\n",
    "                    break\n",
    "        print('finished')"
   ],
   "metadata": {
    "collapsed": false,
    "ExecuteTime": {
     "start_time": "2023-11-12T07:05:09.325832900Z"
    }
   },
   "id": "58ad094d0f142c1b"
  },
  {
   "cell_type": "markdown",
   "source": [
    "FACE IDENTIFIER"
   ],
   "metadata": {
    "collapsed": false
   },
   "id": "41c63b111f3755d2"
  },
  {
   "cell_type": "code",
   "execution_count": null,
   "outputs": [],
   "source": [
    "if __name__ == '__main__':\n",
    "    run()"
   ],
   "metadata": {
    "collapsed": false
   },
   "id": "b0955707ba27b72b"
  }
 ],
 "metadata": {
  "kernelspec": {
   "display_name": "Python 3",
   "language": "python",
   "name": "python3"
  },
  "language_info": {
   "codemirror_mode": {
    "name": "ipython",
    "version": 2
   },
   "file_extension": ".py",
   "mimetype": "text/x-python",
   "name": "python",
   "nbconvert_exporter": "python",
   "pygments_lexer": "ipython2",
   "version": "2.7.6"
  }
 },
 "nbformat": 4,
 "nbformat_minor": 5
}
